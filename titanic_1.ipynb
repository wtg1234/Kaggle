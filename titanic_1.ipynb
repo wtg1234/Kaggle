{
 "cells": [
  {
   "cell_type": "code",
   "execution_count": 58,
   "id": "initial_id",
   "metadata": {
    "collapsed": true,
    "ExecuteTime": {
     "end_time": "2024-01-10T06:47:44.916917Z",
     "start_time": "2024-01-10T06:47:44.907191Z"
    }
   },
   "outputs": [],
   "source": [
    "import pandas as pd\n",
    "df_train = pd.read_csv('train.csv')\n",
    "df_test = pd.read_csv('test.csv')"
   ]
  },
  {
   "cell_type": "code",
   "execution_count": 59,
   "outputs": [],
   "source": [
    "df_train = df_train.drop(labels=['Ticket','Cabin','Name'],axis = 1)\n",
    "df_test = df_test.drop(labels = ['Ticket','Cabin','Name'],axis = 1)"
   ],
   "metadata": {
    "collapsed": false,
    "ExecuteTime": {
     "end_time": "2024-01-10T06:47:46.924032Z",
     "start_time": "2024-01-10T06:47:46.921317Z"
    }
   },
   "id": "186d303a1cc5ec9d"
  },
  {
   "cell_type": "code",
   "execution_count": 60,
   "outputs": [],
   "source": [
    "df_train = pd.get_dummies(df_train, columns=['Sex'])\n",
    "df_test = pd.get_dummies(df_test, columns=['Sex'])"
   ],
   "metadata": {
    "collapsed": false,
    "ExecuteTime": {
     "end_time": "2024-01-10T06:47:48.155047Z",
     "start_time": "2024-01-10T06:47:48.137225Z"
    }
   },
   "id": "294c2c8def889803"
  },
  {
   "cell_type": "code",
   "execution_count": 64,
   "outputs": [],
   "source": [
    "df_train['Embarked'] = df_train['Embarked'].fillna(method = 'ffill')\n",
    "df_train['Age'] = df_train['Age'].fillna(df_train['Age'].median())\n",
    "df_test['Embarked'] = df_test['Embarked'].fillna(method = 'ffill')\n",
    "df_test['Age'] = df_test['Age'].fillna(df_test['Age'].median())\n",
    "df_test['Fare'] = df_test['Fare'].fillna(7.7500)"
   ],
   "metadata": {
    "collapsed": false,
    "ExecuteTime": {
     "end_time": "2024-01-10T06:48:43.382930Z",
     "start_time": "2024-01-10T06:48:43.379281Z"
    }
   },
   "id": "27dee4396c45fb7f"
  },
  {
   "cell_type": "code",
   "execution_count": 72,
   "outputs": [],
   "source": [
    "df_train = pd.get_dummies(df_train, columns = ['Embarked'])\n",
    "df_test = pd.get_dummies(df_test, columns = ['Embarked'])"
   ],
   "metadata": {
    "collapsed": false,
    "ExecuteTime": {
     "end_time": "2024-01-10T06:54:20.755746Z",
     "start_time": "2024-01-10T06:54:20.739465Z"
    }
   },
   "id": "2f09352ca6db224d"
  },
  {
   "cell_type": "code",
   "execution_count": 73,
   "outputs": [],
   "source": [
    "x_train = df_train.drop(labels = 'Survived',axis = 1)\n",
    "y_train = df_train.Survived\n",
    "x_test = df_test"
   ],
   "metadata": {
    "collapsed": false,
    "ExecuteTime": {
     "end_time": "2024-01-10T06:54:22.113467Z",
     "start_time": "2024-01-10T06:54:22.110796Z"
    }
   },
   "id": "19a4bf433c32daeb"
  },
  {
   "cell_type": "code",
   "execution_count": 78,
   "outputs": [],
   "source": [
    "from sklearn.preprocessing import StandardScaler\n",
    "sc = StandardScaler()\n",
    "x_train_sc = sc.fit_transform(x_train)\n",
    "x_test_sc = sc.transform(x_test)"
   ],
   "metadata": {
    "collapsed": false,
    "ExecuteTime": {
     "end_time": "2024-01-10T07:39:58.953590Z",
     "start_time": "2024-01-10T07:39:58.948472Z"
    }
   },
   "id": "532cc81eab108d29"
  },
  {
   "cell_type": "code",
   "execution_count": 85,
   "outputs": [
    {
     "name": "stdout",
     "output_type": "stream",
     "text": [
      "1.0\n"
     ]
    },
    {
     "name": "stderr",
     "output_type": "stream",
     "text": [
      "/opt/anaconda3/lib/python3.9/site-packages/sklearn/linear_model/_logistic.py:444: ConvergenceWarning: lbfgs failed to converge (status=1):\n",
      "STOP: TOTAL NO. of ITERATIONS REACHED LIMIT.\n",
      "\n",
      "Increase the number of iterations (max_iter) or scale the data as shown in:\n",
      "    https://scikit-learn.org/stable/modules/preprocessing.html\n",
      "Please also refer to the documentation for alternative solver options:\n",
      "    https://scikit-learn.org/stable/modules/linear_model.html#logistic-regression\n",
      "  n_iter_i = _check_optimize_result(\n"
     ]
    }
   ],
   "source": [
    "from sklearn.linear_model import LogisticRegression\n",
    "lr = LogisticRegression()\n",
    "lr.fit(x_train,y_train)\n",
    "y_pred1 = lr.predict(x_test)\n",
    "print(lr.score(x_test,y_pred1))"
   ],
   "metadata": {
    "collapsed": false,
    "ExecuteTime": {
     "end_time": "2024-01-10T07:43:54.898260Z",
     "start_time": "2024-01-10T07:43:54.826938Z"
    }
   },
   "id": "30ab999c942e3270"
  },
  {
   "cell_type": "code",
   "execution_count": 88,
   "outputs": [
    {
     "name": "stdout",
     "output_type": "stream",
     "text": [
      "1.0\n"
     ]
    }
   ],
   "source": [
    "from sklearn.linear_model import LogisticRegression\n",
    "lr = LogisticRegression()\n",
    "lr.fit(x_train_sc,y_train)\n",
    "y_pred2 = lr.predict(x_test_sc)\n",
    "print(lr.score(x_test_sc,y_pred2))"
   ],
   "metadata": {
    "collapsed": false,
    "ExecuteTime": {
     "end_time": "2024-01-10T07:46:03.183253Z",
     "start_time": "2024-01-10T07:46:03.144431Z"
    }
   },
   "id": "41c7c31db80584dc"
  },
  {
   "cell_type": "code",
   "execution_count": 90,
   "outputs": [],
   "source": [
    "submission = pd.DataFrame({'PassengerID' : df_test.PassengerId, 'Survived' : y_pred2})\n",
    "submission\n",
    "submission.to_csv('titanic_2_sc.csv',index = False)"
   ],
   "metadata": {
    "collapsed": false,
    "ExecuteTime": {
     "end_time": "2024-01-10T07:46:33.167583Z",
     "start_time": "2024-01-10T07:46:33.161190Z"
    }
   },
   "id": "27b1292b9ce95ba9"
  },
  {
   "cell_type": "code",
   "execution_count": 74,
   "outputs": [
    {
     "name": "stdout",
     "output_type": "stream",
     "text": [
      "[0]\ttrain-rmse:0.41699\n",
      "[1]\ttrain-rmse:0.36305\n",
      "[2]\ttrain-rmse:0.33103\n",
      "[3]\ttrain-rmse:0.30647\n",
      "[4]\ttrain-rmse:0.28866\n",
      "[5]\ttrain-rmse:0.27524\n",
      "[6]\ttrain-rmse:0.26371\n",
      "[7]\ttrain-rmse:0.24913\n",
      "[8]\ttrain-rmse:0.24521\n",
      "[9]\ttrain-rmse:0.23958\n",
      "[10]\ttrain-rmse:0.23449\n",
      "[11]\ttrain-rmse:0.23036\n",
      "[12]\ttrain-rmse:0.22726\n",
      "[13]\ttrain-rmse:0.22359\n",
      "[14]\ttrain-rmse:0.21140\n",
      "[15]\ttrain-rmse:0.21003\n",
      "[16]\ttrain-rmse:0.20854\n",
      "[17]\ttrain-rmse:0.20721\n",
      "[18]\ttrain-rmse:0.20294\n",
      "[19]\ttrain-rmse:0.19672\n",
      "[20]\ttrain-rmse:0.19406\n",
      "[21]\ttrain-rmse:0.19234\n",
      "[22]\ttrain-rmse:0.19041\n",
      "[23]\ttrain-rmse:0.18569\n",
      "[24]\ttrain-rmse:0.18142\n",
      "[25]\ttrain-rmse:0.17674\n",
      "[26]\ttrain-rmse:0.17047\n",
      "[27]\ttrain-rmse:0.16645\n",
      "[28]\ttrain-rmse:0.16587\n",
      "[29]\ttrain-rmse:0.16081\n",
      "[30]\ttrain-rmse:0.15781\n",
      "[31]\ttrain-rmse:0.15551\n",
      "[32]\ttrain-rmse:0.14907\n",
      "[33]\ttrain-rmse:0.14712\n",
      "[34]\ttrain-rmse:0.14350\n",
      "[35]\ttrain-rmse:0.13973\n",
      "[36]\ttrain-rmse:0.13888\n",
      "[37]\ttrain-rmse:0.13850\n",
      "[38]\ttrain-rmse:0.13718\n",
      "[39]\ttrain-rmse:0.13541\n",
      "[40]\ttrain-rmse:0.13427\n",
      "[41]\ttrain-rmse:0.13393\n",
      "[42]\ttrain-rmse:0.12950\n",
      "[43]\ttrain-rmse:0.12501\n",
      "[44]\ttrain-rmse:0.12414\n",
      "[45]\ttrain-rmse:0.12127\n",
      "[46]\ttrain-rmse:0.11615\n",
      "[47]\ttrain-rmse:0.11355\n",
      "[48]\ttrain-rmse:0.11324\n",
      "[49]\ttrain-rmse:0.11266\n",
      "[50]\ttrain-rmse:0.11195\n",
      "[51]\ttrain-rmse:0.11156\n",
      "[52]\ttrain-rmse:0.11091\n",
      "[53]\ttrain-rmse:0.10791\n",
      "[54]\ttrain-rmse:0.10620\n",
      "[55]\ttrain-rmse:0.10364\n",
      "[56]\ttrain-rmse:0.10018\n",
      "[57]\ttrain-rmse:0.09867\n",
      "[58]\ttrain-rmse:0.09634\n",
      "[59]\ttrain-rmse:0.09527\n",
      "[60]\ttrain-rmse:0.09374\n",
      "[61]\ttrain-rmse:0.09274\n",
      "[62]\ttrain-rmse:0.09246\n",
      "[63]\ttrain-rmse:0.09139\n",
      "[64]\ttrain-rmse:0.08967\n",
      "[65]\ttrain-rmse:0.08947\n",
      "[66]\ttrain-rmse:0.08870\n",
      "[67]\ttrain-rmse:0.08639\n",
      "[68]\ttrain-rmse:0.08455\n",
      "[69]\ttrain-rmse:0.08325\n",
      "[70]\ttrain-rmse:0.08263\n",
      "[71]\ttrain-rmse:0.08204\n",
      "[72]\ttrain-rmse:0.08155\n",
      "[73]\ttrain-rmse:0.08092\n",
      "[74]\ttrain-rmse:0.08004\n",
      "[75]\ttrain-rmse:0.07959\n",
      "[76]\ttrain-rmse:0.07704\n",
      "[77]\ttrain-rmse:0.07594\n",
      "[78]\ttrain-rmse:0.07251\n",
      "[79]\ttrain-rmse:0.07196\n",
      "[80]\ttrain-rmse:0.07107\n",
      "[81]\ttrain-rmse:0.07047\n",
      "[82]\ttrain-rmse:0.07031\n",
      "[83]\ttrain-rmse:0.06954\n",
      "[84]\ttrain-rmse:0.06897\n",
      "[85]\ttrain-rmse:0.06807\n",
      "[86]\ttrain-rmse:0.06754\n",
      "[87]\ttrain-rmse:0.06685\n",
      "[88]\ttrain-rmse:0.06647\n",
      "[89]\ttrain-rmse:0.06589\n",
      "[90]\ttrain-rmse:0.06470\n",
      "[91]\ttrain-rmse:0.06312\n",
      "[92]\ttrain-rmse:0.06241\n",
      "[93]\ttrain-rmse:0.06082\n",
      "[94]\ttrain-rmse:0.06034\n",
      "[95]\ttrain-rmse:0.05931\n",
      "[96]\ttrain-rmse:0.05750\n",
      "[97]\ttrain-rmse:0.05715\n",
      "[98]\ttrain-rmse:0.05652\n",
      "[99]\ttrain-rmse:0.05458\n",
      "[100]\ttrain-rmse:0.05411\n",
      "[101]\ttrain-rmse:0.05218\n",
      "[102]\ttrain-rmse:0.05163\n",
      "[103]\ttrain-rmse:0.05116\n",
      "[104]\ttrain-rmse:0.05100\n",
      "[105]\ttrain-rmse:0.05005\n",
      "[106]\ttrain-rmse:0.04845\n",
      "[107]\ttrain-rmse:0.04799\n",
      "[108]\ttrain-rmse:0.04788\n",
      "[109]\ttrain-rmse:0.04745\n",
      "[110]\ttrain-rmse:0.04605\n",
      "[111]\ttrain-rmse:0.04595\n",
      "[112]\ttrain-rmse:0.04508\n",
      "[113]\ttrain-rmse:0.04420\n",
      "[114]\ttrain-rmse:0.04404\n",
      "[115]\ttrain-rmse:0.04286\n",
      "[116]\ttrain-rmse:0.04241\n",
      "[117]\ttrain-rmse:0.04182\n",
      "[118]\ttrain-rmse:0.04089\n",
      "[119]\ttrain-rmse:0.04058\n",
      "[120]\ttrain-rmse:0.04004\n",
      "[121]\ttrain-rmse:0.03958\n",
      "[122]\ttrain-rmse:0.03945\n",
      "[123]\ttrain-rmse:0.03936\n",
      "[124]\ttrain-rmse:0.03919\n",
      "[125]\ttrain-rmse:0.03826\n",
      "[126]\ttrain-rmse:0.03750\n",
      "[127]\ttrain-rmse:0.03689\n",
      "[128]\ttrain-rmse:0.03634\n",
      "[129]\ttrain-rmse:0.03589\n"
     ]
    },
    {
     "name": "stderr",
     "output_type": "stream",
     "text": [
      "/opt/anaconda3/lib/python3.9/site-packages/xgboost/data.py:250: FutureWarning: pandas.Int64Index is deprecated and will be removed from pandas in a future version. Use pandas.Index with the appropriate dtype instead.\n",
      "  elif isinstance(data.columns, (pd.Int64Index, pd.RangeIndex)):\n"
     ]
    },
    {
     "name": "stdout",
     "output_type": "stream",
     "text": [
      "[130]\ttrain-rmse:0.03514\n",
      "[131]\ttrain-rmse:0.03452\n",
      "[132]\ttrain-rmse:0.03417\n",
      "[133]\ttrain-rmse:0.03369\n",
      "[134]\ttrain-rmse:0.03306\n",
      "[135]\ttrain-rmse:0.03253\n",
      "[136]\ttrain-rmse:0.03179\n",
      "[137]\ttrain-rmse:0.03166\n",
      "[138]\ttrain-rmse:0.03146\n",
      "[139]\ttrain-rmse:0.03118\n",
      "[140]\ttrain-rmse:0.03077\n",
      "[141]\ttrain-rmse:0.02996\n",
      "[142]\ttrain-rmse:0.02973\n",
      "[143]\ttrain-rmse:0.02908\n",
      "[144]\ttrain-rmse:0.02851\n",
      "[145]\ttrain-rmse:0.02792\n",
      "[146]\ttrain-rmse:0.02726\n",
      "[147]\ttrain-rmse:0.02707\n",
      "[148]\ttrain-rmse:0.02704\n",
      "[149]\ttrain-rmse:0.02684\n",
      "[150]\ttrain-rmse:0.02671\n",
      "[151]\ttrain-rmse:0.02632\n",
      "[152]\ttrain-rmse:0.02605\n",
      "[153]\ttrain-rmse:0.02575\n",
      "[154]\ttrain-rmse:0.02556\n",
      "[155]\ttrain-rmse:0.02532\n",
      "[156]\ttrain-rmse:0.02496\n",
      "[157]\ttrain-rmse:0.02422\n",
      "[158]\ttrain-rmse:0.02374\n",
      "[159]\ttrain-rmse:0.02339\n",
      "[160]\ttrain-rmse:0.02300\n",
      "[161]\ttrain-rmse:0.02292\n",
      "[162]\ttrain-rmse:0.02246\n",
      "[163]\ttrain-rmse:0.02231\n",
      "[164]\ttrain-rmse:0.02198\n",
      "[165]\ttrain-rmse:0.02177\n",
      "[166]\ttrain-rmse:0.02125\n",
      "[167]\ttrain-rmse:0.02107\n",
      "[168]\ttrain-rmse:0.02103\n",
      "[169]\ttrain-rmse:0.02053\n",
      "[170]\ttrain-rmse:0.02020\n",
      "[171]\ttrain-rmse:0.02013\n",
      "[172]\ttrain-rmse:0.02000\n",
      "[173]\ttrain-rmse:0.01957\n",
      "[174]\ttrain-rmse:0.01950\n",
      "[175]\ttrain-rmse:0.01918\n",
      "[176]\ttrain-rmse:0.01885\n",
      "[177]\ttrain-rmse:0.01862\n",
      "[178]\ttrain-rmse:0.01853\n",
      "[179]\ttrain-rmse:0.01835\n",
      "[180]\ttrain-rmse:0.01811\n",
      "[181]\ttrain-rmse:0.01767\n",
      "[182]\ttrain-rmse:0.01754\n",
      "[183]\ttrain-rmse:0.01725\n",
      "[184]\ttrain-rmse:0.01660\n",
      "[185]\ttrain-rmse:0.01617\n",
      "[186]\ttrain-rmse:0.01596\n",
      "[187]\ttrain-rmse:0.01577\n",
      "[188]\ttrain-rmse:0.01555\n",
      "[189]\ttrain-rmse:0.01521\n",
      "[190]\ttrain-rmse:0.01502\n",
      "[191]\ttrain-rmse:0.01486\n",
      "[192]\ttrain-rmse:0.01478\n",
      "[193]\ttrain-rmse:0.01456\n",
      "[194]\ttrain-rmse:0.01448\n",
      "[195]\ttrain-rmse:0.01433\n",
      "[196]\ttrain-rmse:0.01413\n",
      "[197]\ttrain-rmse:0.01397\n",
      "[198]\ttrain-rmse:0.01364\n",
      "[199]\ttrain-rmse:0.01358\n",
      "[200]\ttrain-rmse:0.01334\n",
      "[201]\ttrain-rmse:0.01330\n",
      "[202]\ttrain-rmse:0.01321\n",
      "[203]\ttrain-rmse:0.01297\n",
      "[204]\ttrain-rmse:0.01292\n",
      "[205]\ttrain-rmse:0.01275\n",
      "[206]\ttrain-rmse:0.01257\n",
      "[207]\ttrain-rmse:0.01248\n",
      "[208]\ttrain-rmse:0.01241\n",
      "[209]\ttrain-rmse:0.01229\n",
      "[210]\ttrain-rmse:0.01222\n",
      "[211]\ttrain-rmse:0.01210\n",
      "[212]\ttrain-rmse:0.01199\n",
      "[213]\ttrain-rmse:0.01174\n",
      "[214]\ttrain-rmse:0.01162\n",
      "[215]\ttrain-rmse:0.01155\n",
      "[216]\ttrain-rmse:0.01140\n",
      "[217]\ttrain-rmse:0.01121\n",
      "[218]\ttrain-rmse:0.01107\n",
      "[219]\ttrain-rmse:0.01093\n",
      "[220]\ttrain-rmse:0.01077\n",
      "[221]\ttrain-rmse:0.01067\n",
      "[222]\ttrain-rmse:0.01063\n",
      "[223]\ttrain-rmse:0.01040\n",
      "[224]\ttrain-rmse:0.01035\n",
      "[225]\ttrain-rmse:0.01028\n",
      "[226]\ttrain-rmse:0.01019\n",
      "[227]\ttrain-rmse:0.01013\n",
      "[228]\ttrain-rmse:0.00996\n",
      "[229]\ttrain-rmse:0.00957\n",
      "[230]\ttrain-rmse:0.00938\n",
      "[231]\ttrain-rmse:0.00920\n",
      "[232]\ttrain-rmse:0.00919\n",
      "[233]\ttrain-rmse:0.00906\n",
      "[234]\ttrain-rmse:0.00891\n",
      "[235]\ttrain-rmse:0.00886\n",
      "[236]\ttrain-rmse:0.00885\n",
      "[237]\ttrain-rmse:0.00883\n",
      "[238]\ttrain-rmse:0.00867\n",
      "[239]\ttrain-rmse:0.00852\n",
      "[240]\ttrain-rmse:0.00848\n",
      "[241]\ttrain-rmse:0.00838\n",
      "[242]\ttrain-rmse:0.00830\n",
      "[243]\ttrain-rmse:0.00811\n",
      "[244]\ttrain-rmse:0.00796\n",
      "[245]\ttrain-rmse:0.00785\n",
      "[246]\ttrain-rmse:0.00778\n",
      "[247]\ttrain-rmse:0.00754\n",
      "[248]\ttrain-rmse:0.00747\n",
      "[249]\ttrain-rmse:0.00731\n",
      "[250]\ttrain-rmse:0.00718\n",
      "[251]\ttrain-rmse:0.00702\n",
      "[252]\ttrain-rmse:0.00700\n",
      "[253]\ttrain-rmse:0.00692\n",
      "[254]\ttrain-rmse:0.00678\n",
      "[255]\ttrain-rmse:0.00676\n",
      "[256]\ttrain-rmse:0.00671\n",
      "[257]\ttrain-rmse:0.00663\n",
      "[258]\ttrain-rmse:0.00657\n",
      "[259]\ttrain-rmse:0.00649\n",
      "[260]\ttrain-rmse:0.00639\n",
      "[261]\ttrain-rmse:0.00637\n",
      "[262]\ttrain-rmse:0.00627\n",
      "[263]\ttrain-rmse:0.00607\n",
      "[264]\ttrain-rmse:0.00604\n",
      "[265]\ttrain-rmse:0.00596\n",
      "[266]\ttrain-rmse:0.00593\n",
      "[267]\ttrain-rmse:0.00580\n",
      "[268]\ttrain-rmse:0.00571\n",
      "[269]\ttrain-rmse:0.00565\n",
      "[270]\ttrain-rmse:0.00550\n",
      "[271]\ttrain-rmse:0.00542\n",
      "[272]\ttrain-rmse:0.00541\n",
      "[273]\ttrain-rmse:0.00536\n",
      "[274]\ttrain-rmse:0.00533\n",
      "[275]\ttrain-rmse:0.00527\n",
      "[276]\ttrain-rmse:0.00516\n",
      "[277]\ttrain-rmse:0.00500\n",
      "[278]\ttrain-rmse:0.00491\n",
      "[279]\ttrain-rmse:0.00484\n",
      "[280]\ttrain-rmse:0.00481\n",
      "[281]\ttrain-rmse:0.00473\n",
      "[282]\ttrain-rmse:0.00462\n",
      "[283]\ttrain-rmse:0.00458\n",
      "[284]\ttrain-rmse:0.00455\n",
      "[285]\ttrain-rmse:0.00451\n",
      "[286]\ttrain-rmse:0.00443\n",
      "[287]\ttrain-rmse:0.00441\n",
      "[288]\ttrain-rmse:0.00438\n",
      "[289]\ttrain-rmse:0.00434\n",
      "[290]\ttrain-rmse:0.00428\n",
      "[291]\ttrain-rmse:0.00423\n",
      "[292]\ttrain-rmse:0.00418\n",
      "[293]\ttrain-rmse:0.00410\n",
      "[294]\ttrain-rmse:0.00406\n",
      "[295]\ttrain-rmse:0.00400\n",
      "[296]\ttrain-rmse:0.00400\n",
      "[297]\ttrain-rmse:0.00393\n",
      "[298]\ttrain-rmse:0.00384\n",
      "[299]\ttrain-rmse:0.00382\n",
      "[300]\ttrain-rmse:0.00378\n",
      "[301]\ttrain-rmse:0.00370\n",
      "[302]\ttrain-rmse:0.00363\n",
      "[303]\ttrain-rmse:0.00361\n",
      "[304]\ttrain-rmse:0.00357\n",
      "[305]\ttrain-rmse:0.00349\n",
      "[306]\ttrain-rmse:0.00346\n",
      "[307]\ttrain-rmse:0.00342\n",
      "[308]\ttrain-rmse:0.00336\n",
      "[309]\ttrain-rmse:0.00334\n",
      "[310]\ttrain-rmse:0.00333\n",
      "[311]\ttrain-rmse:0.00331\n",
      "[312]\ttrain-rmse:0.00328\n",
      "[313]\ttrain-rmse:0.00326\n",
      "[314]\ttrain-rmse:0.00324\n",
      "[315]\ttrain-rmse:0.00310\n",
      "[316]\ttrain-rmse:0.00304\n",
      "[317]\ttrain-rmse:0.00301\n",
      "[318]\ttrain-rmse:0.00299\n",
      "[319]\ttrain-rmse:0.00296\n",
      "[320]\ttrain-rmse:0.00293\n",
      "[321]\ttrain-rmse:0.00292\n",
      "[322]\ttrain-rmse:0.00287\n",
      "[323]\ttrain-rmse:0.00282\n",
      "[324]\ttrain-rmse:0.00275\n",
      "[325]\ttrain-rmse:0.00272\n",
      "[326]\ttrain-rmse:0.00268\n",
      "[327]\ttrain-rmse:0.00265\n",
      "[328]\ttrain-rmse:0.00265\n",
      "[329]\ttrain-rmse:0.00263\n",
      "[330]\ttrain-rmse:0.00260\n",
      "[331]\ttrain-rmse:0.00260\n",
      "[332]\ttrain-rmse:0.00260\n",
      "[333]\ttrain-rmse:0.00260\n",
      "[334]\ttrain-rmse:0.00260\n",
      "[335]\ttrain-rmse:0.00260\n",
      "[336]\ttrain-rmse:0.00260\n",
      "[337]\ttrain-rmse:0.00260\n",
      "[338]\ttrain-rmse:0.00260\n",
      "[339]\ttrain-rmse:0.00260\n",
      "[340]\ttrain-rmse:0.00260\n",
      "[341]\ttrain-rmse:0.00260\n",
      "[342]\ttrain-rmse:0.00260\n",
      "[343]\ttrain-rmse:0.00260\n",
      "[344]\ttrain-rmse:0.00260\n",
      "[345]\ttrain-rmse:0.00260\n",
      "[346]\ttrain-rmse:0.00260\n",
      "[347]\ttrain-rmse:0.00260\n",
      "[348]\ttrain-rmse:0.00260\n",
      "[349]\ttrain-rmse:0.00260\n",
      "[350]\ttrain-rmse:0.00260\n",
      "[351]\ttrain-rmse:0.00260\n",
      "[352]\ttrain-rmse:0.00260\n",
      "[353]\ttrain-rmse:0.00260\n",
      "[354]\ttrain-rmse:0.00260\n",
      "[355]\ttrain-rmse:0.00260\n",
      "[356]\ttrain-rmse:0.00260\n",
      "[357]\ttrain-rmse:0.00260\n",
      "[358]\ttrain-rmse:0.00260\n",
      "[359]\ttrain-rmse:0.00260\n",
      "[360]\ttrain-rmse:0.00260\n",
      "[361]\ttrain-rmse:0.00260\n",
      "[362]\ttrain-rmse:0.00260\n",
      "[363]\ttrain-rmse:0.00260\n",
      "[364]\ttrain-rmse:0.00260\n",
      "[365]\ttrain-rmse:0.00260\n",
      "[366]\ttrain-rmse:0.00260\n",
      "[367]\ttrain-rmse:0.00260\n",
      "[368]\ttrain-rmse:0.00260\n",
      "[369]\ttrain-rmse:0.00260\n",
      "[370]\ttrain-rmse:0.00260\n",
      "[371]\ttrain-rmse:0.00260\n",
      "[372]\ttrain-rmse:0.00260\n",
      "[373]\ttrain-rmse:0.00260\n",
      "[374]\ttrain-rmse:0.00260\n",
      "[375]\ttrain-rmse:0.00260\n",
      "[376]\ttrain-rmse:0.00260\n",
      "[377]\ttrain-rmse:0.00260\n",
      "[378]\ttrain-rmse:0.00260\n",
      "[379]\ttrain-rmse:0.00260\n",
      "[380]\ttrain-rmse:0.00260\n",
      "[381]\ttrain-rmse:0.00260\n",
      "[382]\ttrain-rmse:0.00260\n",
      "[383]\ttrain-rmse:0.00260\n",
      "[384]\ttrain-rmse:0.00260\n",
      "[385]\ttrain-rmse:0.00260\n",
      "[386]\ttrain-rmse:0.00260\n",
      "[387]\ttrain-rmse:0.00260\n",
      "[388]\ttrain-rmse:0.00260\n",
      "[389]\ttrain-rmse:0.00260\n",
      "[390]\ttrain-rmse:0.00260\n",
      "[391]\ttrain-rmse:0.00260\n",
      "[392]\ttrain-rmse:0.00260\n",
      "[393]\ttrain-rmse:0.00260\n",
      "[394]\ttrain-rmse:0.00260\n",
      "[395]\ttrain-rmse:0.00260\n",
      "[396]\ttrain-rmse:0.00260\n",
      "[397]\ttrain-rmse:0.00260\n",
      "[398]\ttrain-rmse:0.00260\n",
      "[399]\ttrain-rmse:0.00260\n"
     ]
    }
   ],
   "source": [
    "# import xgboost as xgb\n",
    "# dtrain = xgb.DMatrix(x_train, y_train)\n",
    "# dtest = xgb.DMatrix(x_test)\n",
    "# params = {}\n",
    "# xgb_model = xgb.train(params = params, dtrain = dtrain, num_boost_round = 400,early_stopping_rounds = 100,\n",
    "#                       evals = [(dtrain,'train')])\n",
    "# y_pred_proba = xgb_model.predict(dtest)\n",
    "# y_pred = [1 if x>0.5 else 0 for x in y_pred_proba]"
   ],
   "metadata": {
    "collapsed": false,
    "ExecuteTime": {
     "end_time": "2024-01-10T06:54:23.949326Z",
     "start_time": "2024-01-10T06:54:23.426173Z"
    }
   },
   "id": "53bc5a3572da5264"
  },
  {
   "cell_type": "code",
   "execution_count": 77,
   "outputs": [],
   "source": [
    "# submission = pd.DataFrame({'PassengerID' : df_test.PassengerId, 'Survived' : y_pred})\n",
    "# submission\n",
    "# submission.to_csv('titanic_1.csv',index = False)"
   ],
   "metadata": {
    "collapsed": false,
    "ExecuteTime": {
     "end_time": "2024-01-10T06:55:27.002757Z",
     "start_time": "2024-01-10T06:55:26.997869Z"
    }
   },
   "id": "f6e0b97d28506977"
  },
  {
   "cell_type": "code",
   "execution_count": null,
   "outputs": [],
   "source": [],
   "metadata": {
    "collapsed": false
   },
   "id": "e7bd40fc4dddcf4f"
  },
  {
   "cell_type": "code",
   "execution_count": null,
   "outputs": [],
   "source": [],
   "metadata": {
    "collapsed": false
   },
   "id": "804598c258555292"
  },
  {
   "cell_type": "code",
   "execution_count": null,
   "outputs": [],
   "source": [],
   "metadata": {
    "collapsed": false
   },
   "id": "91795f31fc6afa54"
  },
  {
   "cell_type": "code",
   "execution_count": null,
   "outputs": [],
   "source": [],
   "metadata": {
    "collapsed": false
   },
   "id": "5ca699e7336d6f96"
  },
  {
   "cell_type": "code",
   "execution_count": null,
   "outputs": [],
   "source": [],
   "metadata": {
    "collapsed": false
   },
   "id": "1976f2e73145ea79"
  },
  {
   "cell_type": "code",
   "execution_count": null,
   "outputs": [],
   "source": [],
   "metadata": {
    "collapsed": false
   },
   "id": "32ac6295c67b32bc"
  }
 ],
 "metadata": {
  "kernelspec": {
   "display_name": "Python 3",
   "language": "python",
   "name": "python3"
  },
  "language_info": {
   "codemirror_mode": {
    "name": "ipython",
    "version": 2
   },
   "file_extension": ".py",
   "mimetype": "text/x-python",
   "name": "python",
   "nbconvert_exporter": "python",
   "pygments_lexer": "ipython2",
   "version": "2.7.6"
  }
 },
 "nbformat": 4,
 "nbformat_minor": 5
}
