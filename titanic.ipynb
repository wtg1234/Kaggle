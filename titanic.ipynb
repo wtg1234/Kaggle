{
 "cells": [
  {
   "cell_type": "code",
   "execution_count": null,
   "id": "initial_id",
   "metadata": {
    "collapsed": true
   },
   "outputs": [],
   "source": [
    "import pandas as pd\n",
    "df_train = pd.read_csv('train.csv')\n",
    "df_test = pd.read_csv('test.csv')\n",
    "df_test"
   ]
  },
  {
   "cell_type": "code",
   "execution_count": null,
   "outputs": [],
   "source": [
    "df_train = df_train.drop(labels = ['Name','Ticket','Cabin'], axis = 1)\n",
    "df_test = df_test.drop(labels = ['Name','Ticket','Cabin'], axis = 1)"
   ],
   "metadata": {
    "collapsed": false
   },
   "id": "5b97b82ab7e46336"
  },
  {
   "cell_type": "code",
   "execution_count": null,
   "outputs": [],
   "source": [
    "df_test.Fare = df_test.Fare.fillna(7.7500)"
   ],
   "metadata": {
    "collapsed": false
   },
   "id": "31007014296f3a0e"
  },
  {
   "cell_type": "code",
   "execution_count": null,
   "outputs": [],
   "source": [
    "from sklearn.preprocessing import LabelEncoder\n",
    "encoder = LabelEncoder()\n",
    "encoder.fit(df_train.Sex)\n",
    "df_train.Sex = encoder.transform(df_train.Sex)\n",
    "encoder.fit(df_test.Sex)\n",
    "df_test.Sex = encoder.transform(df_test.Sex)"
   ],
   "metadata": {
    "collapsed": false
   },
   "id": "999e4ba7b9ff343"
  },
  {
   "cell_type": "code",
   "execution_count": null,
   "outputs": [],
   "source": [
    "df_train.Age = df_train.Age.fillna(df_train.Age.median())\n",
    "df_test.Age = df_test.Age.fillna(df_test.Age.median())"
   ],
   "metadata": {
    "collapsed": false
   },
   "id": "3654c9ec7d52ab7b"
  },
  {
   "cell_type": "code",
   "execution_count": null,
   "outputs": [],
   "source": [
    "df_train = df_train.dropna(axis = 0)\n",
    "df_test = df_test.dropna(axis = 0)"
   ],
   "metadata": {
    "collapsed": false
   },
   "id": "dd888f9337483813"
  },
  {
   "cell_type": "code",
   "execution_count": null,
   "outputs": [],
   "source": [
    "encoder.fit(df_train.Embarked)\n",
    "df_train.Embarked = encoder.transform(df_train.Embarked)\n",
    "encoder.fit(df_test.Embarked)\n",
    "df_test.Embarked = encoder.transform(df_test.Embarked)"
   ],
   "metadata": {
    "collapsed": false
   },
   "id": "13cf291c84407226"
  },
  {
   "cell_type": "code",
   "execution_count": null,
   "outputs": [],
   "source": [
    "x_train = df_train.drop(labels = 'Survived',axis = 1)\n",
    "y_train = df_train.Survived\n",
    "x_test = df_test"
   ],
   "metadata": {
    "collapsed": false
   },
   "id": "eddf918f4b570c46"
  },
  {
   "cell_type": "code",
   "execution_count": null,
   "outputs": [],
   "source": [
    "# import xgboost as xgb\n",
    "# dtrain = xgb.DMatrix(x_train, y_train)\n",
    "# dtest = xgb.DMatrix(x_test)\n",
    "# params = {}\n",
    "# xgb_model = xgb.train(params = params, dtrain = dtrain, num_boost_round = 400,early_stopping_rounds = 100,\n",
    "#                       evals = [(dtrain,'train')])\n",
    "# y_pred_proba = xgb_model.predict(dtest)\n",
    "# y_pred = [1 if x>0.5 else 0 for x in y_pred_proba]"
   ],
   "metadata": {
    "collapsed": false
   },
   "id": "3a0777d5dc8d4e58"
  },
  {
   "cell_type": "code",
   "execution_count": null,
   "outputs": [],
   "source": [
    "# submission2 = pd.DataFrame({'PassengerID' : df_test.PassengerId, 'Survived' : y_pred})\n",
    "# submission2.to_csv('titanic2.csv',index = False)\n",
    "# submission2"
   ],
   "metadata": {
    "collapsed": false
   },
   "id": "8f9017ba5172ccf7"
  },
  {
   "cell_type": "code",
   "execution_count": null,
   "outputs": [],
   "source": [],
   "metadata": {
    "collapsed": false
   },
   "id": "775f3cad779700db"
  },
  {
   "cell_type": "code",
   "execution_count": null,
   "outputs": [],
   "source": [],
   "metadata": {
    "collapsed": false
   },
   "id": "de7c8117b9710737"
  },
  {
   "cell_type": "code",
   "execution_count": null,
   "outputs": [],
   "source": [],
   "metadata": {
    "collapsed": false
   },
   "id": "1f2316350ed3c31f"
  }
 ],
 "metadata": {
  "kernelspec": {
   "display_name": "Python 3",
   "language": "python",
   "name": "python3"
  },
  "language_info": {
   "codemirror_mode": {
    "name": "ipython",
    "version": 2
   },
   "file_extension": ".py",
   "mimetype": "text/x-python",
   "name": "python",
   "nbconvert_exporter": "python",
   "pygments_lexer": "ipython2",
   "version": "2.7.6"
  }
 },
 "nbformat": 4,
 "nbformat_minor": 5
}
